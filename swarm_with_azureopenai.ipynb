{
 "cells": [
  {
   "cell_type": "code",
   "execution_count": 1,
   "metadata": {},
   "outputs": [],
   "source": [
    "from dotenv import load_dotenv, find_dotenv\n",
    "from openai import OpenAI\n",
    "from openai import AzureOpenAI\n",
    "from swarm import Swarm, Agent\n",
    "\n",
    "import os\n",
    "load_dotenv(find_dotenv(), override=True) \n",
    "\n",
    "openai_client = OpenAI(api_key=os.getenv(\"OPENAI_LLM_API_KEY\"))\n",
    "\n",
    "azure_client = AzureOpenAI(\n",
    "    api_key=os.getenv(\"AZURE_LLM_API_KEY\"),\n",
    "    api_version=os.getenv(\"AZURE_LLM_API_VERSION\"),\n",
    "    azure_endpoint=os.getenv(\"AZURE_LLM_ENDPOINT\"),\n",
    "    azure_deployment=os.getenv(\"AZURE_LLM_MODEL_NAME\")\n",
    ")\n",
    "\n",
    "swarm = Swarm(client=azure_client)\n",
    "\n"
   ]
  },
  {
   "cell_type": "code",
   "execution_count": 2,
   "metadata": {},
   "outputs": [
    {
     "name": "stdout",
     "output_type": "stream",
     "text": [
      "Hello! How can I assist you today?\n"
     ]
    }
   ],
   "source": [
    "agent = Agent(\n",
    "    name=\"Agent\",\n",
    "    instructions=\"You are a helpful agent.\",\n",
    ")\n",
    "\n",
    "messages = [{\"role\": \"user\", \"content\": \"Hi!\"}]\n",
    "response = swarm.run(agent=agent, messages=messages)\n",
    "\n",
    "print(response.messages[-1][\"content\"])\n"
   ]
  }
 ],
 "metadata": {
  "kernelspec": {
   "display_name": "swarm",
   "language": "python",
   "name": "python3"
  },
  "language_info": {
   "codemirror_mode": {
    "name": "ipython",
    "version": 3
   },
   "file_extension": ".py",
   "mimetype": "text/x-python",
   "name": "python",
   "nbconvert_exporter": "python",
   "pygments_lexer": "ipython3",
   "version": "3.13.0"
  }
 },
 "nbformat": 4,
 "nbformat_minor": 2
}
